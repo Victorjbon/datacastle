{
 "cells": [
  {
   "cell_type": "code",
   "execution_count": null,
   "id": "426496f4",
   "metadata": {},
   "outputs": [],
   "source": [
    "#calculadora em Python\n",
    "print(\"\\n******************* Python Calculator ******************* \\n\")\n",
    "\n",
    "print(\"Selecione o número da opção desejada: \\n \\n 1 - Soma \\n 2 - Subtração \\n 3 - Divisão \\n 4 - Multiplicação\")\n",
    "\n",
    "opção = input(\"\\nDigite a opção desejada 1/2/3/4: \")\n",
    "\n",
    "if opção == \"1\":\n",
    "    a = int(input('Digite o primeiro número: ')) #converte a string para int\n",
    "    b = int(input('Digite o segundo número: '))\n",
    "    conta = a+b\n",
    "    print (\"\\n%d + %d = %d\" %(a,b,conta))\n",
    "elif opção == \"2\":\n",
    "    a = int(input('Digite o primeiro número: '))\n",
    "    b = int(input('Digite o segundo número: '))\n",
    "    conta = a-b\n",
    "    print (\"\\n%d - %d = %d\" %(a,b,conta))\n",
    "elif opção == \"3\":\n",
    "    a = float(input('Digite o primeiro número: '))\n",
    "    b = float(input('Digite o segundo número: '))\n",
    "    conta = a/b\n",
    "    print (\"\\n%d / %d = %d\" %(a,b,conta))\n",
    "elif opção == \"4\":\n",
    "    a = int(input('Digite o primeiro número: '))\n",
    "    b = int(input('Digite o segundo número: '))\n",
    "    conta = a*b\n",
    "    print (\"\\n%d * %d = %d\" %(a,b,conta))\n",
    "else:\n",
    "    print(\"\\nNão existe essa opção!\")\n"
   ]
  }
 ],
 "metadata": {
  "kernelspec": {
   "display_name": "Python 3",
   "language": "python",
   "name": "python3"
  },
  "language_info": {
   "codemirror_mode": {
    "name": "ipython",
    "version": 3
   },
   "file_extension": ".py",
   "mimetype": "text/x-python",
   "name": "python",
   "nbconvert_exporter": "python",
   "pygments_lexer": "ipython3",
   "version": "3.8.8"
  }
 },
 "nbformat": 4,
 "nbformat_minor": 5
}
