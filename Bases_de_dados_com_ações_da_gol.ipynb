{
  "nbformat": 4,
  "nbformat_minor": 0,
  "metadata": {
    "colab": {
      "name": "Bases de dados com ações da gol.ipynb",
      "provenance": [],
      "authorship_tag": "ABX9TyOq5JeRvmXryrJGxd8vYzki",
      "include_colab_link": true
    },
    "kernelspec": {
      "name": "python3",
      "display_name": "Python 3"
    },
    "language_info": {
      "name": "python"
    }
  },
  "cells": [
    {
      "cell_type": "markdown",
      "metadata": {
        "id": "view-in-github",
        "colab_type": "text"
      },
      "source": [
        "<a href=\"https://colab.research.google.com/github/Victorjbon/datacastle/blob/main/Bases_de_dados_com_a%C3%A7%C3%B5es_da_gol.ipynb\" target=\"_parent\"><img src=\"https://colab.research.google.com/assets/colab-badge.svg\" alt=\"Open In Colab\"/></a>"
      ]
    },
    {
      "cell_type": "code",
      "metadata": {
        "colab": {
          "base_uri": "https://localhost:8080/"
        },
        "id": "SHb6MuDK0y3A",
        "outputId": "8d06639e-ed73-488d-9017-e0db2e2ae41d"
      },
      "source": [
        "#instalando o pacote do yahoo para download dos dados das ações\n",
        "!pip install -q yfinance"
      ],
      "execution_count": 3,
      "outputs": [
        {
          "output_type": "stream",
          "name": "stdout",
          "text": [
            "\u001b[K     |████████████████████████████████| 6.3 MB 6.4 MB/s \n",
            "\u001b[?25h"
          ]
        }
      ]
    },
    {
      "cell_type": "code",
      "metadata": {
        "id": "b13IZWf4zdJX"
      },
      "source": [
        "#importando bibliotecas\n",
        "import pandas as pd\n",
        "import numpy as np\n",
        "from pandas_datareader import data\n",
        "import matplotlib.pyplot as plt\n",
        "import seaborn as sns\n",
        "import plotly.express as px\n",
        "import yfinance as yf"
      ],
      "execution_count": 6,
      "outputs": []
    },
    {
      "cell_type": "code",
      "metadata": {
        "colab": {
          "base_uri": "https://localhost:8080/"
        },
        "id": "ngd14YWtziXe",
        "outputId": "8a999ed8-c4f0-4f4f-8ad7-4bf228beed90"
      },
      "source": [
        "\n",
        "#fazendo o download direto da internet - Escolhendo ação da gol\n",
        "gol_df = yf.download(\"GOLL4.SA\", start='2015-01-01')"
      ],
      "execution_count": 7,
      "outputs": [
        {
          "output_type": "stream",
          "name": "stdout",
          "text": [
            "\r[*********************100%***********************]  1 of 1 completed\n"
          ]
        }
      ]
    },
    {
      "cell_type": "code",
      "metadata": {
        "colab": {
          "base_uri": "https://localhost:8080/",
          "height": 390
        },
        "id": "u8TxU9Nd1aBJ",
        "outputId": "b50e85f0-7cff-427e-e091-f23e4a3d75ef"
      },
      "source": [
        "gol_df.head(10)"
      ],
      "execution_count": 8,
      "outputs": [
        {
          "output_type": "execute_result",
          "data": {
            "text/html": [
              "<div>\n",
              "<style scoped>\n",
              "    .dataframe tbody tr th:only-of-type {\n",
              "        vertical-align: middle;\n",
              "    }\n",
              "\n",
              "    .dataframe tbody tr th {\n",
              "        vertical-align: top;\n",
              "    }\n",
              "\n",
              "    .dataframe thead th {\n",
              "        text-align: right;\n",
              "    }\n",
              "</style>\n",
              "<table border=\"1\" class=\"dataframe\">\n",
              "  <thead>\n",
              "    <tr style=\"text-align: right;\">\n",
              "      <th></th>\n",
              "      <th>Open</th>\n",
              "      <th>High</th>\n",
              "      <th>Low</th>\n",
              "      <th>Close</th>\n",
              "      <th>Adj Close</th>\n",
              "      <th>Volume</th>\n",
              "    </tr>\n",
              "    <tr>\n",
              "      <th>Date</th>\n",
              "      <th></th>\n",
              "      <th></th>\n",
              "      <th></th>\n",
              "      <th></th>\n",
              "      <th></th>\n",
              "      <th></th>\n",
              "    </tr>\n",
              "  </thead>\n",
              "  <tbody>\n",
              "    <tr>\n",
              "      <th>2015-01-02</th>\n",
              "      <td>14.97</td>\n",
              "      <td>15.20</td>\n",
              "      <td>14.61</td>\n",
              "      <td>14.99</td>\n",
              "      <td>14.99</td>\n",
              "      <td>901900</td>\n",
              "    </tr>\n",
              "    <tr>\n",
              "      <th>2015-01-05</th>\n",
              "      <td>14.90</td>\n",
              "      <td>15.01</td>\n",
              "      <td>14.41</td>\n",
              "      <td>14.85</td>\n",
              "      <td>14.85</td>\n",
              "      <td>1272500</td>\n",
              "    </tr>\n",
              "    <tr>\n",
              "      <th>2015-01-06</th>\n",
              "      <td>14.75</td>\n",
              "      <td>15.21</td>\n",
              "      <td>14.65</td>\n",
              "      <td>15.21</td>\n",
              "      <td>15.21</td>\n",
              "      <td>2183500</td>\n",
              "    </tr>\n",
              "    <tr>\n",
              "      <th>2015-01-07</th>\n",
              "      <td>15.15</td>\n",
              "      <td>15.33</td>\n",
              "      <td>14.55</td>\n",
              "      <td>14.55</td>\n",
              "      <td>14.55</td>\n",
              "      <td>1846900</td>\n",
              "    </tr>\n",
              "    <tr>\n",
              "      <th>2015-01-08</th>\n",
              "      <td>14.41</td>\n",
              "      <td>14.65</td>\n",
              "      <td>14.20</td>\n",
              "      <td>14.27</td>\n",
              "      <td>14.27</td>\n",
              "      <td>1569500</td>\n",
              "    </tr>\n",
              "    <tr>\n",
              "      <th>2015-01-09</th>\n",
              "      <td>14.14</td>\n",
              "      <td>14.33</td>\n",
              "      <td>13.84</td>\n",
              "      <td>14.05</td>\n",
              "      <td>14.05</td>\n",
              "      <td>1270300</td>\n",
              "    </tr>\n",
              "    <tr>\n",
              "      <th>2015-01-12</th>\n",
              "      <td>14.05</td>\n",
              "      <td>14.40</td>\n",
              "      <td>13.67</td>\n",
              "      <td>14.25</td>\n",
              "      <td>14.25</td>\n",
              "      <td>2385300</td>\n",
              "    </tr>\n",
              "    <tr>\n",
              "      <th>2015-01-13</th>\n",
              "      <td>14.22</td>\n",
              "      <td>14.63</td>\n",
              "      <td>13.69</td>\n",
              "      <td>13.69</td>\n",
              "      <td>13.69</td>\n",
              "      <td>2967400</td>\n",
              "    </tr>\n",
              "    <tr>\n",
              "      <th>2015-01-14</th>\n",
              "      <td>13.69</td>\n",
              "      <td>14.04</td>\n",
              "      <td>13.39</td>\n",
              "      <td>13.78</td>\n",
              "      <td>13.78</td>\n",
              "      <td>2174300</td>\n",
              "    </tr>\n",
              "    <tr>\n",
              "      <th>2015-01-15</th>\n",
              "      <td>13.60</td>\n",
              "      <td>14.20</td>\n",
              "      <td>13.60</td>\n",
              "      <td>14.05</td>\n",
              "      <td>14.05</td>\n",
              "      <td>1881800</td>\n",
              "    </tr>\n",
              "  </tbody>\n",
              "</table>\n",
              "</div>"
            ],
            "text/plain": [
              "             Open   High    Low  Close  Adj Close   Volume\n",
              "Date                                                      \n",
              "2015-01-02  14.97  15.20  14.61  14.99      14.99   901900\n",
              "2015-01-05  14.90  15.01  14.41  14.85      14.85  1272500\n",
              "2015-01-06  14.75  15.21  14.65  15.21      15.21  2183500\n",
              "2015-01-07  15.15  15.33  14.55  14.55      14.55  1846900\n",
              "2015-01-08  14.41  14.65  14.20  14.27      14.27  1569500\n",
              "2015-01-09  14.14  14.33  13.84  14.05      14.05  1270300\n",
              "2015-01-12  14.05  14.40  13.67  14.25      14.25  2385300\n",
              "2015-01-13  14.22  14.63  13.69  13.69      13.69  2967400\n",
              "2015-01-14  13.69  14.04  13.39  13.78      13.78  2174300\n",
              "2015-01-15  13.60  14.20  13.60  14.05      14.05  1881800"
            ]
          },
          "metadata": {},
          "execution_count": 8
        }
      ]
    },
    {
      "cell_type": "code",
      "metadata": {
        "colab": {
          "base_uri": "https://localhost:8080/"
        },
        "id": "HZR-RejC1hQ9",
        "outputId": "972205c5-502b-42af-f869-557f38e2f6fc"
      },
      "source": [
        "gol_df.shape"
      ],
      "execution_count": 9,
      "outputs": [
        {
          "output_type": "execute_result",
          "data": {
            "text/plain": [
              "(1698, 6)"
            ]
          },
          "metadata": {},
          "execution_count": 9
        }
      ]
    },
    {
      "cell_type": "code",
      "metadata": {
        "colab": {
          "base_uri": "https://localhost:8080/",
          "height": 297
        },
        "id": "pr_kr4rs1hVb",
        "outputId": "4ec40f03-bdc3-449f-cf74-57066cda9e06"
      },
      "source": [
        "#fazendo algumas análises estatisticas\n",
        "gol_df.describe()"
      ],
      "execution_count": 16,
      "outputs": [
        {
          "output_type": "execute_result",
          "data": {
            "text/html": [
              "<div>\n",
              "<style scoped>\n",
              "    .dataframe tbody tr th:only-of-type {\n",
              "        vertical-align: middle;\n",
              "    }\n",
              "\n",
              "    .dataframe tbody tr th {\n",
              "        vertical-align: top;\n",
              "    }\n",
              "\n",
              "    .dataframe thead th {\n",
              "        text-align: right;\n",
              "    }\n",
              "</style>\n",
              "<table border=\"1\" class=\"dataframe\">\n",
              "  <thead>\n",
              "    <tr style=\"text-align: right;\">\n",
              "      <th></th>\n",
              "      <th>Open</th>\n",
              "      <th>High</th>\n",
              "      <th>Low</th>\n",
              "      <th>Close</th>\n",
              "      <th>Adj Close</th>\n",
              "      <th>Volume</th>\n",
              "    </tr>\n",
              "  </thead>\n",
              "  <tbody>\n",
              "    <tr>\n",
              "      <th>count</th>\n",
              "      <td>1698.000000</td>\n",
              "      <td>1698.000000</td>\n",
              "      <td>1698.000000</td>\n",
              "      <td>1698.000000</td>\n",
              "      <td>1698.000000</td>\n",
              "      <td>1.698000e+03</td>\n",
              "    </tr>\n",
              "    <tr>\n",
              "      <th>mean</th>\n",
              "      <td>15.730183</td>\n",
              "      <td>16.113799</td>\n",
              "      <td>15.326973</td>\n",
              "      <td>15.693098</td>\n",
              "      <td>15.693098</td>\n",
              "      <td>4.999588e+06</td>\n",
              "    </tr>\n",
              "    <tr>\n",
              "      <th>std</th>\n",
              "      <td>9.895227</td>\n",
              "      <td>10.078588</td>\n",
              "      <td>9.706139</td>\n",
              "      <td>9.889470</td>\n",
              "      <td>9.889470</td>\n",
              "      <td>4.788299e+06</td>\n",
              "    </tr>\n",
              "    <tr>\n",
              "      <th>min</th>\n",
              "      <td>1.160000</td>\n",
              "      <td>1.180000</td>\n",
              "      <td>1.130000</td>\n",
              "      <td>1.160000</td>\n",
              "      <td>1.160000</td>\n",
              "      <td>0.000000e+00</td>\n",
              "    </tr>\n",
              "    <tr>\n",
              "      <th>25%</th>\n",
              "      <td>7.672500</td>\n",
              "      <td>7.790000</td>\n",
              "      <td>7.500000</td>\n",
              "      <td>7.640000</td>\n",
              "      <td>7.640000</td>\n",
              "      <td>1.940400e+06</td>\n",
              "    </tr>\n",
              "    <tr>\n",
              "      <th>50%</th>\n",
              "      <td>14.175000</td>\n",
              "      <td>14.560000</td>\n",
              "      <td>13.750000</td>\n",
              "      <td>14.190000</td>\n",
              "      <td>14.190000</td>\n",
              "      <td>3.450500e+06</td>\n",
              "    </tr>\n",
              "    <tr>\n",
              "      <th>75%</th>\n",
              "      <td>22.390000</td>\n",
              "      <td>23.012500</td>\n",
              "      <td>21.779999</td>\n",
              "      <td>22.395000</td>\n",
              "      <td>22.395000</td>\n",
              "      <td>6.341025e+06</td>\n",
              "    </tr>\n",
              "    <tr>\n",
              "      <th>max</th>\n",
              "      <td>43.669998</td>\n",
              "      <td>44.619999</td>\n",
              "      <td>41.310001</td>\n",
              "      <td>43.790001</td>\n",
              "      <td>43.790001</td>\n",
              "      <td>4.368050e+07</td>\n",
              "    </tr>\n",
              "  </tbody>\n",
              "</table>\n",
              "</div>"
            ],
            "text/plain": [
              "              Open         High  ...    Adj Close        Volume\n",
              "count  1698.000000  1698.000000  ...  1698.000000  1.698000e+03\n",
              "mean     15.730183    16.113799  ...    15.693098  4.999588e+06\n",
              "std       9.895227    10.078588  ...     9.889470  4.788299e+06\n",
              "min       1.160000     1.180000  ...     1.160000  0.000000e+00\n",
              "25%       7.672500     7.790000  ...     7.640000  1.940400e+06\n",
              "50%      14.175000    14.560000  ...    14.190000  3.450500e+06\n",
              "75%      22.390000    23.012500  ...    22.395000  6.341025e+06\n",
              "max      43.669998    44.619999  ...    43.790001  4.368050e+07\n",
              "\n",
              "[8 rows x 6 columns]"
            ]
          },
          "metadata": {},
          "execution_count": 16
        }
      ]
    },
    {
      "cell_type": "code",
      "metadata": {
        "colab": {
          "base_uri": "https://localhost:8080/",
          "height": 111
        },
        "id": "-YhSza3s4k8H",
        "outputId": "6bcf3b74-c3ce-49ef-beba-e108f8003094"
      },
      "source": [
        "#retornando um registro\n",
        "gol_df[gol_df['Close'] >= 43.79]"
      ],
      "execution_count": 17,
      "outputs": [
        {
          "output_type": "execute_result",
          "data": {
            "text/html": [
              "<div>\n",
              "<style scoped>\n",
              "    .dataframe tbody tr th:only-of-type {\n",
              "        vertical-align: middle;\n",
              "    }\n",
              "\n",
              "    .dataframe tbody tr th {\n",
              "        vertical-align: top;\n",
              "    }\n",
              "\n",
              "    .dataframe thead th {\n",
              "        text-align: right;\n",
              "    }\n",
              "</style>\n",
              "<table border=\"1\" class=\"dataframe\">\n",
              "  <thead>\n",
              "    <tr style=\"text-align: right;\">\n",
              "      <th></th>\n",
              "      <th>Open</th>\n",
              "      <th>High</th>\n",
              "      <th>Low</th>\n",
              "      <th>Close</th>\n",
              "      <th>Adj Close</th>\n",
              "      <th>Volume</th>\n",
              "    </tr>\n",
              "    <tr>\n",
              "      <th>Date</th>\n",
              "      <th></th>\n",
              "      <th></th>\n",
              "      <th></th>\n",
              "      <th></th>\n",
              "      <th></th>\n",
              "      <th></th>\n",
              "    </tr>\n",
              "  </thead>\n",
              "  <tbody>\n",
              "    <tr>\n",
              "      <th>2019-08-01</th>\n",
              "      <td>41.25</td>\n",
              "      <td>44.619999</td>\n",
              "      <td>41.25</td>\n",
              "      <td>43.790001</td>\n",
              "      <td>43.790001</td>\n",
              "      <td>6664200</td>\n",
              "    </tr>\n",
              "  </tbody>\n",
              "</table>\n",
              "</div>"
            ],
            "text/plain": [
              "             Open       High    Low      Close  Adj Close   Volume\n",
              "Date                                                              \n",
              "2019-08-01  41.25  44.619999  41.25  43.790001  43.790001  6664200"
            ]
          },
          "metadata": {},
          "execution_count": 17
        }
      ]
    },
    {
      "cell_type": "code",
      "metadata": {
        "colab": {
          "base_uri": "https://localhost:8080/",
          "height": 111
        },
        "id": "VSdl2TPp9I1l",
        "outputId": "94878ea0-fbee-49bd-896e-9fa629f5778d"
      },
      "source": [
        "gol_df[(gol_df['Close'] >= 1.15) & (gol_df['Close'] <= 1.16)]"
      ],
      "execution_count": 19,
      "outputs": [
        {
          "output_type": "execute_result",
          "data": {
            "text/html": [
              "<div>\n",
              "<style scoped>\n",
              "    .dataframe tbody tr th:only-of-type {\n",
              "        vertical-align: middle;\n",
              "    }\n",
              "\n",
              "    .dataframe tbody tr th {\n",
              "        vertical-align: top;\n",
              "    }\n",
              "\n",
              "    .dataframe thead th {\n",
              "        text-align: right;\n",
              "    }\n",
              "</style>\n",
              "<table border=\"1\" class=\"dataframe\">\n",
              "  <thead>\n",
              "    <tr style=\"text-align: right;\">\n",
              "      <th></th>\n",
              "      <th>Open</th>\n",
              "      <th>High</th>\n",
              "      <th>Low</th>\n",
              "      <th>Close</th>\n",
              "      <th>Adj Close</th>\n",
              "      <th>Volume</th>\n",
              "    </tr>\n",
              "    <tr>\n",
              "      <th>Date</th>\n",
              "      <th></th>\n",
              "      <th></th>\n",
              "      <th></th>\n",
              "      <th></th>\n",
              "      <th></th>\n",
              "      <th></th>\n",
              "    </tr>\n",
              "  </thead>\n",
              "  <tbody>\n",
              "    <tr>\n",
              "      <th>2016-01-22</th>\n",
              "      <td>1.2</td>\n",
              "      <td>1.26</td>\n",
              "      <td>1.14</td>\n",
              "      <td>1.16</td>\n",
              "      <td>1.16</td>\n",
              "      <td>3830600</td>\n",
              "    </tr>\n",
              "  </tbody>\n",
              "</table>\n",
              "</div>"
            ],
            "text/plain": [
              "            Open  High   Low  Close  Adj Close   Volume\n",
              "Date                                                   \n",
              "2016-01-22   1.2  1.26  1.14   1.16       1.16  3830600"
            ]
          },
          "metadata": {},
          "execution_count": 19
        }
      ]
    },
    {
      "cell_type": "code",
      "metadata": {
        "id": "SAJqTjQS9JYp"
      },
      "source": [
        "#converter o arquivo para um dataframe do pandas - salvando em csv\n",
        "gol_df.to_csv('gol.csv')\n"
      ],
      "execution_count": 26,
      "outputs": []
    },
    {
      "cell_type": "code",
      "metadata": {
        "colab": {
          "base_uri": "https://localhost:8080/",
          "height": 419
        },
        "id": "aUe4N9HS9_jv",
        "outputId": "c537b32c-1ba5-47e7-996f-e64f86271b58"
      },
      "source": [
        "gol_df2 = pd.read_csv('/content/gol.csv')\n",
        "gol_df2"
      ],
      "execution_count": 27,
      "outputs": [
        {
          "output_type": "execute_result",
          "data": {
            "text/html": [
              "<div>\n",
              "<style scoped>\n",
              "    .dataframe tbody tr th:only-of-type {\n",
              "        vertical-align: middle;\n",
              "    }\n",
              "\n",
              "    .dataframe tbody tr th {\n",
              "        vertical-align: top;\n",
              "    }\n",
              "\n",
              "    .dataframe thead th {\n",
              "        text-align: right;\n",
              "    }\n",
              "</style>\n",
              "<table border=\"1\" class=\"dataframe\">\n",
              "  <thead>\n",
              "    <tr style=\"text-align: right;\">\n",
              "      <th></th>\n",
              "      <th>Date</th>\n",
              "      <th>Open</th>\n",
              "      <th>High</th>\n",
              "      <th>Low</th>\n",
              "      <th>Close</th>\n",
              "      <th>Adj Close</th>\n",
              "      <th>Volume</th>\n",
              "    </tr>\n",
              "  </thead>\n",
              "  <tbody>\n",
              "    <tr>\n",
              "      <th>0</th>\n",
              "      <td>2015-01-02</td>\n",
              "      <td>14.970000</td>\n",
              "      <td>15.200000</td>\n",
              "      <td>14.610000</td>\n",
              "      <td>14.990000</td>\n",
              "      <td>14.990000</td>\n",
              "      <td>901900</td>\n",
              "    </tr>\n",
              "    <tr>\n",
              "      <th>1</th>\n",
              "      <td>2015-01-05</td>\n",
              "      <td>14.900000</td>\n",
              "      <td>15.010000</td>\n",
              "      <td>14.410000</td>\n",
              "      <td>14.850000</td>\n",
              "      <td>14.850000</td>\n",
              "      <td>1272500</td>\n",
              "    </tr>\n",
              "    <tr>\n",
              "      <th>2</th>\n",
              "      <td>2015-01-06</td>\n",
              "      <td>14.750000</td>\n",
              "      <td>15.210000</td>\n",
              "      <td>14.650000</td>\n",
              "      <td>15.210000</td>\n",
              "      <td>15.210000</td>\n",
              "      <td>2183500</td>\n",
              "    </tr>\n",
              "    <tr>\n",
              "      <th>3</th>\n",
              "      <td>2015-01-07</td>\n",
              "      <td>15.150000</td>\n",
              "      <td>15.330000</td>\n",
              "      <td>14.550000</td>\n",
              "      <td>14.550000</td>\n",
              "      <td>14.550000</td>\n",
              "      <td>1846900</td>\n",
              "    </tr>\n",
              "    <tr>\n",
              "      <th>4</th>\n",
              "      <td>2015-01-08</td>\n",
              "      <td>14.410000</td>\n",
              "      <td>14.650000</td>\n",
              "      <td>14.200000</td>\n",
              "      <td>14.270000</td>\n",
              "      <td>14.270000</td>\n",
              "      <td>1569500</td>\n",
              "    </tr>\n",
              "    <tr>\n",
              "      <th>...</th>\n",
              "      <td>...</td>\n",
              "      <td>...</td>\n",
              "      <td>...</td>\n",
              "      <td>...</td>\n",
              "      <td>...</td>\n",
              "      <td>...</td>\n",
              "      <td>...</td>\n",
              "    </tr>\n",
              "    <tr>\n",
              "      <th>1693</th>\n",
              "      <td>2021-11-11</td>\n",
              "      <td>17.600000</td>\n",
              "      <td>18.790001</td>\n",
              "      <td>17.490000</td>\n",
              "      <td>18.090000</td>\n",
              "      <td>18.090000</td>\n",
              "      <td>9803600</td>\n",
              "    </tr>\n",
              "    <tr>\n",
              "      <th>1694</th>\n",
              "      <td>2021-11-16</td>\n",
              "      <td>17.690001</td>\n",
              "      <td>17.799999</td>\n",
              "      <td>16.730000</td>\n",
              "      <td>16.870001</td>\n",
              "      <td>16.870001</td>\n",
              "      <td>4906100</td>\n",
              "    </tr>\n",
              "    <tr>\n",
              "      <th>1695</th>\n",
              "      <td>2021-11-17</td>\n",
              "      <td>17.070000</td>\n",
              "      <td>17.370001</td>\n",
              "      <td>16.469999</td>\n",
              "      <td>16.930000</td>\n",
              "      <td>16.930000</td>\n",
              "      <td>7192500</td>\n",
              "    </tr>\n",
              "    <tr>\n",
              "      <th>1696</th>\n",
              "      <td>2021-11-18</td>\n",
              "      <td>16.990000</td>\n",
              "      <td>17.500000</td>\n",
              "      <td>16.490000</td>\n",
              "      <td>16.650000</td>\n",
              "      <td>16.650000</td>\n",
              "      <td>4760000</td>\n",
              "    </tr>\n",
              "    <tr>\n",
              "      <th>1697</th>\n",
              "      <td>2021-11-19</td>\n",
              "      <td>16.559999</td>\n",
              "      <td>16.959999</td>\n",
              "      <td>16.250000</td>\n",
              "      <td>16.709999</td>\n",
              "      <td>16.709999</td>\n",
              "      <td>3989200</td>\n",
              "    </tr>\n",
              "  </tbody>\n",
              "</table>\n",
              "<p>1698 rows × 7 columns</p>\n",
              "</div>"
            ],
            "text/plain": [
              "            Date       Open       High  ...      Close  Adj Close   Volume\n",
              "0     2015-01-02  14.970000  15.200000  ...  14.990000  14.990000   901900\n",
              "1     2015-01-05  14.900000  15.010000  ...  14.850000  14.850000  1272500\n",
              "2     2015-01-06  14.750000  15.210000  ...  15.210000  15.210000  2183500\n",
              "3     2015-01-07  15.150000  15.330000  ...  14.550000  14.550000  1846900\n",
              "4     2015-01-08  14.410000  14.650000  ...  14.270000  14.270000  1569500\n",
              "...          ...        ...        ...  ...        ...        ...      ...\n",
              "1693  2021-11-11  17.600000  18.790001  ...  18.090000  18.090000  9803600\n",
              "1694  2021-11-16  17.690001  17.799999  ...  16.870001  16.870001  4906100\n",
              "1695  2021-11-17  17.070000  17.370001  ...  16.930000  16.930000  7192500\n",
              "1696  2021-11-18  16.990000  17.500000  ...  16.650000  16.650000  4760000\n",
              "1697  2021-11-19  16.559999  16.959999  ...  16.709999  16.709999  3989200\n",
              "\n",
              "[1698 rows x 7 columns]"
            ]
          },
          "metadata": {},
          "execution_count": 27
        }
      ]
    },
    {
      "cell_type": "code",
      "metadata": {
        "id": "XsUfZ7LT9_yE"
      },
      "source": [
        ""
      ],
      "execution_count": null,
      "outputs": []
    },
    {
      "cell_type": "code",
      "metadata": {
        "id": "P3evPEIK9Jtc"
      },
      "source": [
        ""
      ],
      "execution_count": null,
      "outputs": []
    },
    {
      "cell_type": "code",
      "metadata": {
        "id": "wgtUWP7X4lMr"
      },
      "source": [
        ""
      ],
      "execution_count": null,
      "outputs": []
    },
    {
      "cell_type": "code",
      "metadata": {
        "id": "Pni3z-D41hbY"
      },
      "source": [
        ""
      ],
      "execution_count": null,
      "outputs": []
    },
    {
      "cell_type": "code",
      "metadata": {
        "id": "7pexw6Yo1aNO"
      },
      "source": [
        ""
      ],
      "execution_count": null,
      "outputs": []
    },
    {
      "cell_type": "code",
      "metadata": {
        "id": "uA4AEt221aa_"
      },
      "source": [
        ""
      ],
      "execution_count": null,
      "outputs": []
    }
  ]
}